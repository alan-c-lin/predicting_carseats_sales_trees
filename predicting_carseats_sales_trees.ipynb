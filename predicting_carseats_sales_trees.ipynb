{
 "cells": [
  {
   "cell_type": "markdown",
   "id": "24820157",
   "metadata": {},
   "source": [
    "# Predicting Carseats Sales with Decision Trees and Ensemble Methods\n",
    "**Name:** Alan Lin"
   ]
  },
  {
   "cell_type": "markdown",
   "id": "9b5d2014",
   "metadata": {},
   "source": [
    "## Motivation\n",
    "Retailers often want to understand what drives **product sales** and how to best predict them. In this project, I use the **Carseats dataset** from the ISLP package to predict Sales as a quantitative response.\n",
    "I apply and compare **tree-based regression methods**:\n",
    "- Decision Trees (with pruning)\n",
    "- Bagging\n",
    "- Random Forests\n",
    "\n",
    "The goal is to evaluate predictive accuracy, interpretability, and feature importance across methods, building on concepts explored in ISLP."
   ]
  },
  {
   "cell_type": "markdown",
   "id": "a7c9258c",
   "metadata": {},
   "source": [
    "## Data Analysis\n",
    "### Importing Necessary Dependencies\n",
    "We begin by importing important libraries and the dataset, which is loaded using the `ISLP` libraries. We then split the dataset into 70% training and 30% test observations. "
   ]
  },
  {
   "cell_type": "code",
   "execution_count": 1,
   "id": "d5a271b6",
   "metadata": {},
   "outputs": [
    {
     "data": {
      "text/html": [
       "<div>\n",
       "<style scoped>\n",
       "    .dataframe tbody tr th:only-of-type {\n",
       "        vertical-align: middle;\n",
       "    }\n",
       "\n",
       "    .dataframe tbody tr th {\n",
       "        vertical-align: top;\n",
       "    }\n",
       "\n",
       "    .dataframe thead th {\n",
       "        text-align: right;\n",
       "    }\n",
       "</style>\n",
       "<table border=\"1\" class=\"dataframe\">\n",
       "  <thead>\n",
       "    <tr style=\"text-align: right;\">\n",
       "      <th></th>\n",
       "      <th>Sales</th>\n",
       "      <th>CompPrice</th>\n",
       "      <th>Income</th>\n",
       "      <th>Advertising</th>\n",
       "      <th>Population</th>\n",
       "      <th>Price</th>\n",
       "      <th>ShelveLoc</th>\n",
       "      <th>Age</th>\n",
       "      <th>Education</th>\n",
       "      <th>Urban</th>\n",
       "      <th>US</th>\n",
       "    </tr>\n",
       "  </thead>\n",
       "  <tbody>\n",
       "    <tr>\n",
       "      <th>0</th>\n",
       "      <td>9.50</td>\n",
       "      <td>138</td>\n",
       "      <td>73</td>\n",
       "      <td>11</td>\n",
       "      <td>276</td>\n",
       "      <td>120</td>\n",
       "      <td>Bad</td>\n",
       "      <td>42</td>\n",
       "      <td>17</td>\n",
       "      <td>Yes</td>\n",
       "      <td>Yes</td>\n",
       "    </tr>\n",
       "    <tr>\n",
       "      <th>1</th>\n",
       "      <td>11.22</td>\n",
       "      <td>111</td>\n",
       "      <td>48</td>\n",
       "      <td>16</td>\n",
       "      <td>260</td>\n",
       "      <td>83</td>\n",
       "      <td>Good</td>\n",
       "      <td>65</td>\n",
       "      <td>10</td>\n",
       "      <td>Yes</td>\n",
       "      <td>Yes</td>\n",
       "    </tr>\n",
       "    <tr>\n",
       "      <th>2</th>\n",
       "      <td>10.06</td>\n",
       "      <td>113</td>\n",
       "      <td>35</td>\n",
       "      <td>10</td>\n",
       "      <td>269</td>\n",
       "      <td>80</td>\n",
       "      <td>Medium</td>\n",
       "      <td>59</td>\n",
       "      <td>12</td>\n",
       "      <td>Yes</td>\n",
       "      <td>Yes</td>\n",
       "    </tr>\n",
       "    <tr>\n",
       "      <th>3</th>\n",
       "      <td>7.40</td>\n",
       "      <td>117</td>\n",
       "      <td>100</td>\n",
       "      <td>4</td>\n",
       "      <td>466</td>\n",
       "      <td>97</td>\n",
       "      <td>Medium</td>\n",
       "      <td>55</td>\n",
       "      <td>14</td>\n",
       "      <td>Yes</td>\n",
       "      <td>Yes</td>\n",
       "    </tr>\n",
       "    <tr>\n",
       "      <th>4</th>\n",
       "      <td>4.15</td>\n",
       "      <td>141</td>\n",
       "      <td>64</td>\n",
       "      <td>3</td>\n",
       "      <td>340</td>\n",
       "      <td>128</td>\n",
       "      <td>Bad</td>\n",
       "      <td>38</td>\n",
       "      <td>13</td>\n",
       "      <td>Yes</td>\n",
       "      <td>No</td>\n",
       "    </tr>\n",
       "    <tr>\n",
       "      <th>...</th>\n",
       "      <td>...</td>\n",
       "      <td>...</td>\n",
       "      <td>...</td>\n",
       "      <td>...</td>\n",
       "      <td>...</td>\n",
       "      <td>...</td>\n",
       "      <td>...</td>\n",
       "      <td>...</td>\n",
       "      <td>...</td>\n",
       "      <td>...</td>\n",
       "      <td>...</td>\n",
       "    </tr>\n",
       "    <tr>\n",
       "      <th>395</th>\n",
       "      <td>12.57</td>\n",
       "      <td>138</td>\n",
       "      <td>108</td>\n",
       "      <td>17</td>\n",
       "      <td>203</td>\n",
       "      <td>128</td>\n",
       "      <td>Good</td>\n",
       "      <td>33</td>\n",
       "      <td>14</td>\n",
       "      <td>Yes</td>\n",
       "      <td>Yes</td>\n",
       "    </tr>\n",
       "    <tr>\n",
       "      <th>396</th>\n",
       "      <td>6.14</td>\n",
       "      <td>139</td>\n",
       "      <td>23</td>\n",
       "      <td>3</td>\n",
       "      <td>37</td>\n",
       "      <td>120</td>\n",
       "      <td>Medium</td>\n",
       "      <td>55</td>\n",
       "      <td>11</td>\n",
       "      <td>No</td>\n",
       "      <td>Yes</td>\n",
       "    </tr>\n",
       "    <tr>\n",
       "      <th>397</th>\n",
       "      <td>7.41</td>\n",
       "      <td>162</td>\n",
       "      <td>26</td>\n",
       "      <td>12</td>\n",
       "      <td>368</td>\n",
       "      <td>159</td>\n",
       "      <td>Medium</td>\n",
       "      <td>40</td>\n",
       "      <td>18</td>\n",
       "      <td>Yes</td>\n",
       "      <td>Yes</td>\n",
       "    </tr>\n",
       "    <tr>\n",
       "      <th>398</th>\n",
       "      <td>5.94</td>\n",
       "      <td>100</td>\n",
       "      <td>79</td>\n",
       "      <td>7</td>\n",
       "      <td>284</td>\n",
       "      <td>95</td>\n",
       "      <td>Bad</td>\n",
       "      <td>50</td>\n",
       "      <td>12</td>\n",
       "      <td>Yes</td>\n",
       "      <td>Yes</td>\n",
       "    </tr>\n",
       "    <tr>\n",
       "      <th>399</th>\n",
       "      <td>9.71</td>\n",
       "      <td>134</td>\n",
       "      <td>37</td>\n",
       "      <td>0</td>\n",
       "      <td>27</td>\n",
       "      <td>120</td>\n",
       "      <td>Good</td>\n",
       "      <td>49</td>\n",
       "      <td>16</td>\n",
       "      <td>Yes</td>\n",
       "      <td>Yes</td>\n",
       "    </tr>\n",
       "  </tbody>\n",
       "</table>\n",
       "<p>400 rows × 11 columns</p>\n",
       "</div>"
      ],
      "text/plain": [
       "     Sales  CompPrice  Income  Advertising  Population  Price ShelveLoc  Age  \\\n",
       "0     9.50        138      73           11         276    120       Bad   42   \n",
       "1    11.22        111      48           16         260     83      Good   65   \n",
       "2    10.06        113      35           10         269     80    Medium   59   \n",
       "3     7.40        117     100            4         466     97    Medium   55   \n",
       "4     4.15        141      64            3         340    128       Bad   38   \n",
       "..     ...        ...     ...          ...         ...    ...       ...  ...   \n",
       "395  12.57        138     108           17         203    128      Good   33   \n",
       "396   6.14        139      23            3          37    120    Medium   55   \n",
       "397   7.41        162      26           12         368    159    Medium   40   \n",
       "398   5.94        100      79            7         284     95       Bad   50   \n",
       "399   9.71        134      37            0          27    120      Good   49   \n",
       "\n",
       "     Education Urban   US  \n",
       "0           17   Yes  Yes  \n",
       "1           10   Yes  Yes  \n",
       "2           12   Yes  Yes  \n",
       "3           14   Yes  Yes  \n",
       "4           13   Yes   No  \n",
       "..         ...   ...  ...  \n",
       "395         14   Yes  Yes  \n",
       "396         11    No  Yes  \n",
       "397         18   Yes  Yes  \n",
       "398         12   Yes  Yes  \n",
       "399         16   Yes  Yes  \n",
       "\n",
       "[400 rows x 11 columns]"
      ]
     },
     "execution_count": 1,
     "metadata": {},
     "output_type": "execute_result"
    }
   ],
   "source": [
    "import numpy as np\n",
    "import pandas as pd\n",
    "import matplotlib.pyplot as plt\n",
    "import sklearn.model_selection as skm\n",
    "from ISLP import load_data\n",
    "from ISLP.models import ModelSpec as MS\n",
    "from sklearn.tree import DecisionTreeRegressor as DTR\n",
    "from sklearn.ensemble import RandomForestRegressor as RF \n",
    "\n",
    "# Load Carseats dataset\n",
    "Carseats = load_data('Carseats')\n",
    "\n",
    "# Create design matrix with all predictors except Sales\n",
    "model = MS(Carseats.columns.drop('Sales'), intercept = False)\n",
    "D = model.fit_transform(Carseats)\n",
    "\n",
    "feature_names = list(D.columns)\n",
    "X = np.asarray(D)\n",
    "\n",
    "# Split dataset train (70%) and test (30%)\n",
    "(X_train, X_test, y_train, y_test) = skm.train_test_split(X, Carseats['Sales'], test_size = 0.3, random_state = 0)\n",
    "\n",
    "Carseats"
   ]
  },
  {
   "cell_type": "markdown",
   "id": "4298975b",
   "metadata": {},
   "source": [
    "The response variable is `Sales`, the unit sales (in thousands) at every location. The predictors are:\n",
    "- `CompPrice`: Price charged by competitor at each location\n",
    "- `Income`: Community income level (in thousands of dollars)\n",
    "- `Advertising`: Local advertising budget for company at each location (in thousands of dollars)\n",
    "- `Population`: Population size in region (in thousands)\n",
    "- `Price`: Price company charges for car seats at each site\n",
    "- `ShelveLoc`: A factor with levels Bad, Good and Medium indicating the quality of the shelving location for the car seats at each site\n",
    "- `Age`: Average age of the local population\n",
    "- `Education`: Education level at each location\n",
    "- `Urban`: A factor with levels No and Yes to indicate whether the store is in an urban or rural location\n",
    "- `US`: A factor with levels No and Yes to indicate whether the store is in the US or not"
   ]
  },
  {
   "cell_type": "markdown",
   "id": "b3f91c3c",
   "metadata": {},
   "source": [
    "### Decision Tree Regressor\n",
    "We begin with the simplest model, the decision tree. Decision trees provide an interpretable model for regression problems. However, unpruned trees often overfit, so we compare:  \n",
    "1. A **full tree** (no pruning)  \n",
    "2. A **pruned tree** chosen via cross-validation and cost-complexity pruning"
   ]
  },
  {
   "cell_type": "code",
   "execution_count": 2,
   "id": "f1b058fd",
   "metadata": {},
   "outputs": [
    {
     "name": "stdout",
     "output_type": "stream",
     "text": [
      "Test MSE (full tree): 5.083071666666667\n",
      "Number of terminal nodes (full tree): 277\n"
     ]
    }
   ],
   "source": [
    "# Create the Decision Tree Regressor model with a fixed random state for reproducibility\n",
    "reg = DTR(random_state = 0)\n",
    "\n",
    "# Fit the model to the training dataset\n",
    "reg.fit(X_train , y_train)\n",
    "\n",
    "# Predict values of test dataset\n",
    "preds = reg.predict(X_test)\n",
    "\n",
    "# Compute and print test MSE (error metric)\n",
    "full_mse = np.mean((preds - y_test)**2)\n",
    "print(f\"Test MSE (full tree): {full_mse}\")\n",
    "print(f\"Number of terminal nodes (full tree): {reg.get_n_leaves()}\")"
   ]
  },
  {
   "cell_type": "markdown",
   "id": "485b168b",
   "metadata": {},
   "source": [
    "We now train a pruned tree by utilizing k-fold cross validation with $k = 5$ to see if the testing MSE will decrease."
   ]
  },
  {
   "cell_type": "code",
   "execution_count": 3,
   "id": "02c4c34a",
   "metadata": {},
   "outputs": [
    {
     "name": "stdout",
     "output_type": "stream",
     "text": [
      "Test MSE (pruned tree): 4.431070971603666\n",
      "Number of terminal nodes (pruned tree): 55\n"
     ]
    }
   ],
   "source": [
    "# Cost-complexity pruning path\n",
    "ccp_path = reg.cost_complexity_pruning_path(X_train, y_train)\n",
    "\n",
    "# Cross-validation to select optimal alpha\n",
    "kfold = skm.KFold(5, shuffle = True, random_state = 10)\n",
    "grid = skm.GridSearchCV(\n",
    "    reg, {'ccp_alpha': ccp_path.ccp_alphas}, \n",
    "    refit = True, cv = kfold, scoring='neg_mean_squared_error'\n",
    ")\n",
    "\n",
    "# Fit the model to the training dataset\n",
    "G = grid.fit(X_train, y_train)\n",
    "best_ = grid.best_estimator_\n",
    "\n",
    "# Compute and print test MSE for pruned tree\n",
    "cv_mse = np.mean((y_test - best_.predict(X_test))**2)\n",
    "print(f\"Test MSE (pruned tree): {cv_mse}\")\n",
    "print(f\"Number of terminal nodes (pruned tree): {best_.get_n_leaves()}\")"
   ]
  },
  {
   "cell_type": "markdown",
   "id": "1a095f3e",
   "metadata": {},
   "source": [
    "Despite dropping to 55 terminal nodes in the pruned tree as opposed to the 277 terminal nodes in the full tree, we improve the test MSE by over 10%, showcasing the power of pruned trees in capturing data patterns and delivering accurate predictions while reducing complexity by preventing overfitting."
   ]
  },
  {
   "cell_type": "markdown",
   "id": "d081f917",
   "metadata": {},
   "source": [
    "### Bagging  \n",
    "\n",
    "Bagging (Bootstrap Aggregating) reduces variance by training many trees on bootstrap samples and averaging their predictions. This typically improves predictive accuracy compared to a single tree by preventing overfitting and introducing randomization (through bootstrapping). We also examine **feature importance** to see which predictors matter most for Sales."
   ]
  },
  {
   "cell_type": "code",
   "execution_count": 4,
   "id": "9e85abe9",
   "metadata": {},
   "outputs": [
    {
     "name": "stdout",
     "output_type": "stream",
     "text": [
      "Test MSE (bagging): 2.0077445197500015\n",
      "Feature importance for bagging model:\n",
      "              Feature  Importance\n",
      "4               Price    0.278666\n",
      "5     ShelveLoc[Good]    0.222431\n",
      "7                 Age    0.108637\n",
      "0           CompPrice    0.097085\n",
      "6   ShelveLoc[Medium]    0.082965\n",
      "2         Advertising    0.074627\n",
      "1              Income    0.051799\n",
      "3          Population    0.040945\n",
      "8           Education    0.030836\n",
      "10            US[Yes]    0.006815\n",
      "9          Urban[Yes]    0.005195\n"
     ]
    }
   ],
   "source": [
    "# Create the bagging model (random forest with all predictors considered)\n",
    "bag_carseats = RF(max_features = X_train.shape[1], random_state = 0)\n",
    "\n",
    "# Fit the model to the training dataset\n",
    "bag_carseats.fit(X_train, y_train)\n",
    "\n",
    "# Predict values of the test dataset\n",
    "bag_preds = bag_carseats.predict(X_test)\n",
    "\n",
    "# Compute and print test MSE\n",
    "bag_mse = np.mean((bag_preds - y_test)**2)\n",
    "print(f\"Test MSE (bagging): {bag_mse}\")\n",
    "\n",
    "# Compute feature importance\n",
    "importances = bag_carseats.feature_importances_\n",
    "feature_importance_df = pd.DataFrame({\n",
    "    'Feature': feature_names,\n",
    "    'Importance': importances\n",
    "})\n",
    "\n",
    "# Sort feature importances in descending order and print\n",
    "feature_importance_df = feature_importance_df.sort_values(by='Importance', ascending=False)\n",
    "print(\"Feature importance for bagging model:\")\n",
    "print(feature_importance_df)"
   ]
  },
  {
   "cell_type": "markdown",
   "id": "529e38be",
   "metadata": {},
   "source": [
    "We see that bagging places the most emphasis on price and good shelf location. These are both logical indicators of sales performances, as the value of a good carseat and its selling position in a marketplace would heavily influence buyer traffic and encourage potential customers to consider and purchase the carseat."
   ]
  },
  {
   "cell_type": "markdown",
   "id": "8983d8d5",
   "metadata": {},
   "source": [
    "### Random Forests\n",
    "Random forests improve upon bagging by decorrelating trees. At each split, only a random subset of features is considered, which reduces the dominance of strong features and leads to more diverse trees. \n",
    "\n",
    "We evaluate random forests in two ways:  \n",
    "1. **Varying $m$** (the number of features considered at each split) and plotting test MSE.  \n",
    "2. Using the default recommendation of **$m = \\sqrt{p}$** (rounded) and examining feature importance.\n",
    "\n",
    "Our random forests will use 1,000 trees and vary in number of features considered."
   ]
  },
  {
   "cell_type": "code",
   "execution_count": 5,
   "id": "146760bf",
   "metadata": {},
   "outputs": [
    {
     "data": {
      "image/png": "[encoded data removed]",
      "text/plain": [
       "<Figure size 640x480 with 1 Axes>"
      ]
     },
     "metadata": {},
     "output_type": "display_data"
    }
   ],
   "source": [
    "# Set up number of features\n",
    "p = len(feature_names)\n",
    "\n",
    "# Create lists for MSE values and number of features\n",
    "rf_mse_vals = []\n",
    "m_vals = np.arange(1, p+1)\n",
    "\n",
    "# Fit a random forest for varying number of features\n",
    "for i in m_vals:\n",
    "    RF_carseats = RF(max_features = i, n_estimators = 1000, random_state = 0) # set random state for reproducibility\n",
    "    RF_carseats.fit(X_train, y_train)\n",
    "    rf_preds = RF_carseats.predict(X_test)\n",
    "    rf_mse_vals.append(np.mean((rf_preds - y_test)**2))\n",
    "\n",
    "# Plot MSE vs. m (number of features)\n",
    "plt.scatter(m_vals, rf_mse_vals, color = \"b\")\n",
    "plt.title(\"Test MSE of Random Forest with m features\")\n",
    "plt.xlabel(\"Number of features (m)\")\n",
    "plt.ylabel(\"Test MSE\")\n",
    "plt.grid()"
   ]
  },
  {
   "cell_type": "markdown",
   "id": "a60f962e",
   "metadata": {},
   "source": [
    "**Figure 1:** Test mean squared error (MSE) of random forests with varying numbers of features."
   ]
  },
  {
   "cell_type": "markdown",
   "id": "270555a4",
   "metadata": {},
   "source": [
    "The test MSE decreases sharply when $m$ increases from very small values, but then stabilizes. This is expected: once the strongest predictors are available to the trees, adding more predictors only increases correlation between trees without reducing bias much further. As a result, the predictive accuracy levels off, with small fluctuations due to randomness.\n",
    "\n",
    "We now move on to the default procedure of setting $m = \\sqrt{p}$ to see the MSE metric and feature importances.  "
   ]
  },
  {
   "cell_type": "code",
   "execution_count": 6,
   "id": "cad6cf8f",
   "metadata": {},
   "outputs": [
    {
     "name": "stdout",
     "output_type": "stream",
     "text": [
      "Number of features (p): 11\n",
      "m = sqrt(p): 3\n",
      "Test MSE (random forest with sqrt(p) features): 2.2756299329358276\n",
      "Feature importance for model with m = sqrt(p) features:\n",
      "              Feature  Importance\n",
      "4               Price    0.243342\n",
      "5     ShelveLoc[Good]    0.160471\n",
      "7                 Age    0.122006\n",
      "0           CompPrice    0.097027\n",
      "2         Advertising    0.087855\n",
      "1              Income    0.085006\n",
      "3          Population    0.076153\n",
      "8           Education    0.050686\n",
      "6   ShelveLoc[Medium]    0.048134\n",
      "10            US[Yes]    0.016977\n",
      "9          Urban[Yes]    0.012344\n"
     ]
    }
   ],
   "source": [
    "# Print number of features and m = sqrt(p) value\n",
    "print(\"Number of features (p):\", p)\n",
    "m = round(np.sqrt(p))\n",
    "print(\"m = sqrt(p):\", m)\n",
    "\n",
    "# Create random forest with m = sqrt(p) features and random state for reproducibility\n",
    "RF_carseats_opt = RF(max_features = m, n_estimators = 1000, random_state = 0)\n",
    "\n",
    "# Fit the model to the training dataset\n",
    "RF_carseats_opt.fit(X_train, y_train)\n",
    "\n",
    "# Predict values of the test dataset\n",
    "rf_preds_opt = RF_carseats_opt.predict(X_test)\n",
    "\n",
    "# Compute and print test MSE\n",
    "rf_opt_mse = np.mean((rf_preds_opt - y_test)**2)\n",
    "print(f\"Test MSE (random forest with sqrt(p) features): {rf_opt_mse}\")\n",
    "\n",
    "# Compute feature importance\n",
    "importances = RF_carseats_opt.feature_importances_\n",
    "feature_importance_df = pd.DataFrame({\n",
    "     'Feature': feature_names,\n",
    "     'Importance': importances\n",
    "})\n",
    "\n",
    "# Sort feature importances in descending order and print\n",
    "feature_importance_df = feature_importance_df.sort_values(by='Importance', ascending=False)\n",
    "print(\"Feature importance for model with m = sqrt(p) features:\")\n",
    "print(feature_importance_df)"
   ]
  },
  {
   "cell_type": "markdown",
   "id": "fa9b9b40",
   "metadata": {},
   "source": [
    "The rule-of-thumb $m = \\sqrt{p}$ is a reasonable default, but it does not always minimize test error. In this dataset, the optimal $m$ could be slightly higher or lower depending on which features are most predictive and how correlated they are, reflecting the practical challenges of balancing bias and variance in real-world machine learning."
   ]
  },
  {
   "cell_type": "markdown",
   "id": "7f4f869b",
   "metadata": {},
   "source": [
    "### Overall Takeaways\n",
    "**Decision Trees:**\n",
    "- Easy to interpret and visualize.\n",
    "- Full trees tend to overfit, leading to higher test MSE.\n",
    "- Pruning improves generalization by reducing the number of terminal nodes, balancing bias and variance.\n",
    "\n",
    "**Bagging:**\n",
    "- Aggregating multiple trees reduces variance and stabilizes predictions.\n",
    "- Test MSE is lower than a single decision tree, showing the benefit of ensemble averaging.\n",
    "- Feature importance analysis highlights the predictors most strongly influencing Sales, providing actionable insights.\n",
    "\n",
    "**Random Forests:**\n",
    "- Further reduces variance by decorrelating trees through random feature selection at splits.\n",
    "- Provides the best predictive performance in this dataset.\n",
    "- The choice of $m$ (number of features per split) affects performance, and the default heuristic $m = \\sqrt{p}$ is reasonable but not guaranteed optimal.\n",
    "\n",
    "**Practical insights:**\n",
    "- Certain predictors (e.g., Price, ShelveLoc, Age) consistently emerge as important, reflecting key drivers of product sales.\n",
    "- Ensemble methods balance interpretability and accuracy, making them useful for both predictive modeling and business decision-making.\n",
    "\n",
    "**Overall learning:**\n",
    "- Tree-based methods offer flexible modeling for tabular data.\n",
    "- Combining multiple trees via bagging or random forests improves predictive reliability.\n",
    "- Understanding hyperparameters, like pruning complexity or m in random forests, is critical to achieving strong generalization."
   ]
  }
 ],
 "metadata": {
  "kernelspec": {
   "display_name": "jupyterenv",
   "language": "python",
   "name": "python3"
  },
  "language_info": {
   "codemirror_mode": {
    "name": "ipython",
    "version": 3
   },
   "file_extension": ".py",
   "mimetype": "text/x-python",
   "name": "python",
   "nbconvert_exporter": "python",
   "pygments_lexer": "ipython3",
   "version": "3.10.16"
  }
 },
 "nbformat": 4,
 "nbformat_minor": 5
}
